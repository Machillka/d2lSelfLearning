{
 "cells": [
  {
   "cell_type": "markdown",
   "metadata": {},
   "source": [
    "自定义神经网络层和块的学习"
   ]
  },
  {
   "cell_type": "code",
   "execution_count": 30,
   "metadata": {},
   "outputs": [],
   "source": [
    "# import the packages\n",
    "import torch\n",
    "import numpy\n",
    "import torch.nn.functional as F\n",
    "import matplotlib.pyplot as plt\n",
    "from torch import nn\n",
    "\n",
    "%matplotlib inline"
   ]
  },
  {
   "cell_type": "code",
   "execution_count": 31,
   "metadata": {},
   "outputs": [],
   "source": [
    "class LayerLinear(nn.Module):\n",
    "    \"\"\"\n",
    "    自定义线性层\n",
    "    \"\"\"\n",
    "    def __init__(self, inFeature, outFeature) -> None:\n",
    "        super().__init__()\n",
    "\n",
    "        self.W = nn.Parameter(torch.rand(inFeature, outFeature))\n",
    "        self.B = nn.Parameter(torch.rand(outFeature, ))\n",
    "\n",
    "    def forward(self, inputData):\n",
    "        output = inputData @ self.W + self.B\n",
    "        return F.relu(output)"
   ]
  },
  {
   "cell_type": "code",
   "execution_count": 32,
   "metadata": {},
   "outputs": [
    {
     "data": {
      "text/plain": [
       "tensor([[1.8868, 1.9151],\n",
       "        [1.8766, 2.0984]], grad_fn=<ReluBackward0>)"
      ]
     },
     "execution_count": 32,
     "metadata": {},
     "output_type": "execute_result"
    }
   ],
   "source": [
    "testLayer = LayerLinear(10, 2)\n",
    "testLayer(torch.rand(2, 10))"
   ]
  },
  {
   "cell_type": "code",
   "execution_count": 33,
   "metadata": {},
   "outputs": [],
   "source": [
    "class LinearBlock(nn.Module):\n",
    "    \"\"\"\n",
    "    自定义模块 (若干层的叠加)\n",
    "    \"\"\"\n",
    "    def __init__(self, inFeature, outFeature) -> None:\n",
    "        super().__init__()\n",
    "\n",
    "        self.inputLayer = nn.Linear(inFeature, 128)\n",
    "        self.outputLayer = nn.Linear(128, outFeature)\n",
    "    \n",
    "    def forward(self, inputData):\n",
    "        X = F.relu(self.inputLayer(inputData))\n",
    "        X = F.sigmoid(self.outputLayer(X))\n",
    "\n",
    "        return X"
   ]
  },
  {
   "cell_type": "code",
   "execution_count": 34,
   "metadata": {},
   "outputs": [
    {
     "data": {
      "text/plain": [
       "tensor([[0.4921, 0.4919],\n",
       "        [0.4855, 0.5055]], grad_fn=<SigmoidBackward0>)"
      ]
     },
     "execution_count": 34,
     "metadata": {},
     "output_type": "execute_result"
    }
   ],
   "source": [
    "testBlock = LinearBlock(10, 2)\n",
    "testBlock(torch.rand(2, 10))"
   ]
  },
  {
   "cell_type": "code",
   "execution_count": 35,
   "metadata": {},
   "outputs": [],
   "source": [
    "class FixedMLP(nn.Module):\n",
    "    \"\"\"\n",
    "    自定义具有固定参数层 和 共享参数层 的 MLP\n",
    "    \n",
    "    固定参数实现:\n",
    "        1. 在前向传播的时候取消不计算梯度 with torch.no_grad()\n",
    "        2. 在设置其可训练参数的时候使 requires_grad = False\n",
    "    \"\"\"\n",
    "\n",
    "    def __init__(self, inFeature, outFeature):\n",
    "        super().__init__()\n",
    "\n",
    "        self.inputLayer = nn.Linear(inFeature, 16)\n",
    "        # 将 其 权重 全部赋值为 0.1\n",
    "        self.inputLayer.weight.data.fill_(0.1)\n",
    "        \n",
    "        self.hidden = nn.Linear(16, 64)\n",
    "        self.transfor = nn.Linear(64, 16)\n",
    "        self.outputLayer = nn.Linear(64, outFeature)\n",
    "\n",
    "    def forward(self, inputData):\n",
    "        # 不加入梯度计算，就不会参与反向传播更新参数\n",
    "        with torch.no_grad():\n",
    "            X = F.leaky_relu(self.inputLayer(inputData))\n",
    "            \n",
    "        X = F.leaky_relu(self.hidden(X))\n",
    "        X = F.leaky_relu(self.transfor(X))\n",
    "\n",
    "        # 使用同一层. 说明共享参数\n",
    "        X = F.leaky_relu(self.hidden(X))\n",
    "\n",
    "        return self.outputLayer(X)"
   ]
  },
  {
   "cell_type": "code",
   "execution_count": 39,
   "metadata": {},
   "outputs": [
    {
     "name": "stdout",
     "output_type": "stream",
     "text": [
      "tensor(3.7196, grad_fn=<SumBackward0>)\n",
      "Parameter containing:\n",
      "tensor([[0.1000, 0.1000, 0.1000, 0.1000, 0.1000, 0.1000, 0.1000, 0.1000, 0.1000,\n",
      "         0.1000],\n",
      "        [0.1000, 0.1000, 0.1000, 0.1000, 0.1000, 0.1000, 0.1000, 0.1000, 0.1000,\n",
      "         0.1000],\n",
      "        [0.1000, 0.1000, 0.1000, 0.1000, 0.1000, 0.1000, 0.1000, 0.1000, 0.1000,\n",
      "         0.1000],\n",
      "        [0.1000, 0.1000, 0.1000, 0.1000, 0.1000, 0.1000, 0.1000, 0.1000, 0.1000,\n",
      "         0.1000],\n",
      "        [0.1000, 0.1000, 0.1000, 0.1000, 0.1000, 0.1000, 0.1000, 0.1000, 0.1000,\n",
      "         0.1000],\n",
      "        [0.1000, 0.1000, 0.1000, 0.1000, 0.1000, 0.1000, 0.1000, 0.1000, 0.1000,\n",
      "         0.1000],\n",
      "        [0.1000, 0.1000, 0.1000, 0.1000, 0.1000, 0.1000, 0.1000, 0.1000, 0.1000,\n",
      "         0.1000],\n",
      "        [0.1000, 0.1000, 0.1000, 0.1000, 0.1000, 0.1000, 0.1000, 0.1000, 0.1000,\n",
      "         0.1000],\n",
      "        [0.1000, 0.1000, 0.1000, 0.1000, 0.1000, 0.1000, 0.1000, 0.1000, 0.1000,\n",
      "         0.1000],\n",
      "        [0.1000, 0.1000, 0.1000, 0.1000, 0.1000, 0.1000, 0.1000, 0.1000, 0.1000,\n",
      "         0.1000],\n",
      "        [0.1000, 0.1000, 0.1000, 0.1000, 0.1000, 0.1000, 0.1000, 0.1000, 0.1000,\n",
      "         0.1000],\n",
      "        [0.1000, 0.1000, 0.1000, 0.1000, 0.1000, 0.1000, 0.1000, 0.1000, 0.1000,\n",
      "         0.1000],\n",
      "        [0.1000, 0.1000, 0.1000, 0.1000, 0.1000, 0.1000, 0.1000, 0.1000, 0.1000,\n",
      "         0.1000],\n",
      "        [0.1000, 0.1000, 0.1000, 0.1000, 0.1000, 0.1000, 0.1000, 0.1000, 0.1000,\n",
      "         0.1000],\n",
      "        [0.1000, 0.1000, 0.1000, 0.1000, 0.1000, 0.1000, 0.1000, 0.1000, 0.1000,\n",
      "         0.1000],\n",
      "        [0.1000, 0.1000, 0.1000, 0.1000, 0.1000, 0.1000, 0.1000, 0.1000, 0.1000,\n",
      "         0.1000]], requires_grad=True)\n"
     ]
    }
   ],
   "source": [
    "fMLP = FixedMLP(10, 2)\n",
    "prediction = fMLP(torch.rand(2, 10))\n",
    "\n",
    "loss = torch.sum(torch.abs(prediction - torch.ones(2, 2)))\n",
    "loss.backward()\n",
    "optimizer = torch.optim.SGD(fMLP.parameters(), lr = 0.9)\n",
    "optimizer.step()\n",
    "print(fMLP.inputLayer.weight)"
   ]
  },
  {
   "cell_type": "code",
   "execution_count": null,
   "metadata": {},
   "outputs": [],
   "source": []
  }
 ],
 "metadata": {
  "kernelspec": {
   "display_name": "Python 3",
   "language": "python",
   "name": "python3"
  },
  "language_info": {
   "codemirror_mode": {
    "name": "ipython",
    "version": 3
   },
   "file_extension": ".py",
   "mimetype": "text/x-python",
   "name": "python",
   "nbconvert_exporter": "python",
   "pygments_lexer": "ipython3",
   "version": "3.10.11"
  }
 },
 "nbformat": 4,
 "nbformat_minor": 2
}
