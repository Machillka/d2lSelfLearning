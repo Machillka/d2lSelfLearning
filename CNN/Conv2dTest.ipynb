{
 "cells": [
  {
   "cell_type": "markdown",
   "metadata": {},
   "source": [
    "Convolution 朴素实现"
   ]
  },
  {
   "cell_type": "code",
   "execution_count": 1,
   "metadata": {},
   "outputs": [],
   "source": [
    "import numpy\n",
    "import torch\n",
    "import torch.nn.functional as F\n",
    "from torch import nn, tensor, Tensor"
   ]
  },
  {
   "cell_type": "code",
   "execution_count": 2,
   "metadata": {},
   "outputs": [],
   "source": [
    "class Conv2d(nn.Module):\n",
    "    def __init__(\n",
    "        self,\n",
    "        kernelSize,\n",
    "        stride\n",
    "    ) -> None:\n",
    "        super().__init__()\n",
    "\n",
    "        self.kernel = torch.rand(kernelSize)\n",
    "        self.stride = stride\n",
    "    \n",
    "    def forward(self, inputData):\n",
    "        \"\"\"\n",
    "        实现包含深度的图像卷积操作\n",
    "        Args:\n",
    "            inputData: shape[height, width]\n",
    "        \"\"\"\n",
    "        h, w = self.kernel.shape\n",
    "        # 对于每一个 filter 输出维度为 [h', w']\n",
    "        output = torch.zeros(inputData.size(2) - h + 1, inputData.size(3) - w + 1)\n",
    "\n",
    "        for i in range(output.size(1), self.stride):\n",
    "            for j in range(output.size(2), self.stride):\n",
    "                output[i, j] = (inputData[:, i : i + h, j : j + w] * self.kernel).sum()\n",
    "\n",
    "        return output\n"
   ]
  }
 ],
 "metadata": {
  "kernelspec": {
   "display_name": "Python 3",
   "language": "python",
   "name": "python3"
  },
  "language_info": {
   "codemirror_mode": {
    "name": "ipython",
    "version": 3
   },
   "file_extension": ".py",
   "mimetype": "text/x-python",
   "name": "python",
   "nbconvert_exporter": "python",
   "pygments_lexer": "ipython3",
   "version": "3.11.5"
  }
 },
 "nbformat": 4,
 "nbformat_minor": 2
}
