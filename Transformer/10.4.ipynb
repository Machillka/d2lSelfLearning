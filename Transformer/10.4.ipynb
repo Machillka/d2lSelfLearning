{
 "cells": [
  {
   "cell_type": "code",
   "execution_count": 5,
   "metadata": {},
   "outputs": [],
   "source": [
    "import seaborn as sns\n",
    "import numpy as np\n",
    "import torch\n",
    "import torch.nn.functional as F\n",
    "import matplotlib.pyplot as plt\n",
    "from torch import rand, tensor, Tensor, nn\n",
    "\n",
    "%matplotlib inline\n",
    "\n",
    "sns.set_theme(style=\"white\")"
   ]
  },
  {
   "cell_type": "markdown",
   "metadata": {},
   "source": [
    "# DotScaleAttention"
   ]
  },
  {
   "cell_type": "code",
   "execution_count": 6,
   "metadata": {},
   "outputs": [],
   "source": [
    "class DotScaleAttention(nn.Module):\n",
    "    def __init__(self) -> None:\n",
    "        super().__init__()\n",
    "\n",
    "    def forward(self, queries, keys, values):\n",
    "        batchSize = queries.size(0)\n",
    "        featureSize = queries.size(2)\n",
    "\n",
    "        scores = torch.bmm(queries, keys.permute(0, 2, 1))\n",
    "        print(scores.shape)\n",
    "        self.attentionWeights = F.softmax(scores, dim = -1) / np.sqrt(featureSize)\n",
    "\n",
    "        return torch.bmm(self.attentionWeights, values)"
   ]
  },
  {
   "cell_type": "code",
   "execution_count": 7,
   "metadata": {},
   "outputs": [
    {
     "name": "stdout",
     "output_type": "stream",
     "text": [
      "torch.Size([32, 128, 128])\n",
      "torch.Size([32, 128, 64])\n"
     ]
    }
   ],
   "source": [
    "net = DotScaleAttention()\n",
    "q = torch.rand(32, 128, 64)\n",
    "k = torch.rand(32, 128, 64)\n",
    "v = torch.rand(32, 128, 64)\n",
    "\n",
    "output = net(q, k, v)\n",
    "print(output.shape)"
   ]
  },
  {
   "cell_type": "markdown",
   "metadata": {},
   "source": [
    "# MultHeadAttention\n",
    "\n"
   ]
  },
  {
   "cell_type": "code",
   "execution_count": null,
   "metadata": {},
   "outputs": [],
   "source": [
    "class MultHeadAttention(nn.Module):\n",
    "    \"\"\"\n",
    "\n",
    "    \"\"\"\n",
    "\n",
    "    def __init__(\n",
    "        self,\n",
    "        hiddenNum: int,\n",
    "        headNum: int,\n",
    "        featureNum: int,\n",
    "        querySize: int,\n",
    "        keySize: int,\n",
    "        valueSize: int,\n",
    "        dropout: float\n",
    "    ) -> None:\n",
    "\n",
    "        super().__init__()\n",
    "\n",
    "        assert hiddenNum % headNum == 0, \"Dimension error! Check the hiddennum and headNum\"\n",
    "\n",
    "        self.QLinear = nn.Linear(querySize, hiddenNum)\n",
    "        self.KLinear = nn.Linear(keySize, hiddenNum)\n",
    "        self.VLinear = nn.Linear(valueSize, hiddenNum)\n",
    "\n",
    "        self.dropout = nn.Dropout(dropout)\n",
    "\n",
    "    def forward(self, queries, keys, values) -> Tensor:\n",
    "        \"\"\"\n",
    "        Args:\n",
    "\n",
    "        Return:\n",
    "\n",
    "        \"\"\"\n",
    "        queries = self.QLinear(queries)\n",
    "        keys = self.KLinear(keys)\n",
    "        values = self.VLinear(values)\n",
    "\n",
    "    def Transpose()"
   ]
  }
 ],
 "metadata": {
  "kernelspec": {
   "display_name": "base",
   "language": "python",
   "name": "python3"
  },
  "language_info": {
   "codemirror_mode": {
    "name": "ipython",
    "version": 3
   },
   "file_extension": ".py",
   "mimetype": "text/x-python",
   "name": "python",
   "nbconvert_exporter": "python",
   "pygments_lexer": "ipython3",
   "version": "3.11.5"
  }
 },
 "nbformat": 4,
 "nbformat_minor": 2
}
