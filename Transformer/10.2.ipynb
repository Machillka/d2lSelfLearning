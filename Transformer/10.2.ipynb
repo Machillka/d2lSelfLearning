{
 "cells": [
  {
   "cell_type": "code",
   "execution_count": 1,
   "metadata": {},
   "outputs": [],
   "source": [
    "import seaborn as sns\n",
    "import numpy as np\n",
    "import torch\n",
    "import torch.nn.functional as F\n",
    "from torch import rand, tensor, Tensor, nn\n",
    "\n",
    "%matplotlib inline\n",
    "\n",
    "sns.set_theme(style=\"white\")\n"
   ]
  },
  {
   "cell_type": "code",
   "execution_count": 8,
   "metadata": {},
   "outputs": [
    {
     "name": "stdout",
     "output_type": "stream",
     "text": [
      "tensor([[[5.]],\n",
      "\n",
      "        [[5.]]]) torch.Size([2, 1, 1])\n"
     ]
    }
   ],
   "source": [
    "# 在头尾各添加一个维度，使得矩阵乘法输出维度为 1*1, 可以看作累乘作和的运算\n",
    "x = torch.ones(2, 5).unsqueeze(1)\n",
    "y = torch.ones(2, 5).unsqueeze(-1)\n",
    "\n",
    "output = torch.bmm(x, y)\n",
    "\n",
    "print(output, output.shape)"
   ]
  },
  {
   "cell_type": "code",
   "execution_count": null,
   "metadata": {},
   "outputs": [],
   "source": []
  }
 ],
 "metadata": {
  "kernelspec": {
   "display_name": "base",
   "language": "python",
   "name": "python3"
  },
  "language_info": {
   "codemirror_mode": {
    "name": "ipython",
    "version": 3
   },
   "file_extension": ".py",
   "mimetype": "text/x-python",
   "name": "python",
   "nbconvert_exporter": "python",
   "pygments_lexer": "ipython3",
   "version": "3.11.5"
  }
 },
 "nbformat": 4,
 "nbformat_minor": 2
}
