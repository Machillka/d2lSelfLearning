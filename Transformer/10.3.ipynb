{
 "cells": [
  {
   "cell_type": "code",
   "execution_count": 46,
   "metadata": {},
   "outputs": [],
   "source": [
    "import seaborn as sns\n",
    "import numpy as np\n",
    "import torch\n",
    "import torch.nn.functional as F\n",
    "import matplotlib.pyplot as plt\n",
    "from torch import rand, tensor, Tensor, nn\n",
    "\n",
    "%matplotlib inline\n",
    "\n",
    "sns.set_theme(style=\"white\")"
   ]
  },
  {
   "cell_type": "code",
   "execution_count": 47,
   "metadata": {},
   "outputs": [],
   "source": [
    "# 加性注意力\n",
    "class AdditiveAttention(nn.Module):\n",
    "    def __init__(\n",
    "        self,\n",
    "        keySize: int,\n",
    "        hiddenNum: int,\n",
    "        querySize: int,\n",
    "        pairNum: int,\n",
    "    ) -> None:\n",
    "        super().__init__()\n",
    "\n",
    "        self.keySize = keySize\n",
    "        self.querySize = querySize\n",
    "        self.hiddenNum = hiddenNum\n",
    "        self.pairNum = pairNum\n",
    "\n",
    "        self.KLinear = nn.Linear(keySize, hiddenNum, bias = False)\n",
    "        self.QLinear = nn.Linear(querySize, hiddenNum, bias = False)\n",
    "        self.VLinear = nn.Linear(hiddenNum, 1, bias = False)\n",
    "\n",
    "    def forward(self, queries, keys, values) -> Tensor:\n",
    "        batchSize = queries.size(0)\n",
    "\n",
    "        # 映射到 [feature, hiddenNum] 的空间上\n",
    "        # unsqueeze 使两个张量可以进行广播运算\n",
    "        queries = self.QLinear(queries).unsqueeze(2)\n",
    "        keys = self.KLinear(keys).unsqueeze(1)\n",
    "        print(queries.shape)\n",
    "        print(keys.shape)\n",
    "        assert queries.shape[-1] == keys.shape[-1], \"Dimension error\"\n",
    "\n",
    "        # 利用广播机制 加和 求得评分函数的值\n",
    "        features = torch.tanh(queries + keys)\n",
    "\n",
    "        scores = self.VLinear(features).squeeze(-1)\n",
    "        self.attentionWeights = F.softmax(scores, dim = 1)\n",
    "        return torch.bmm(self.attentionWeights, values)"
   ]
  },
  {
   "cell_type": "code",
   "execution_count": 49,
   "metadata": {},
   "outputs": [
    {
     "name": "stdout",
     "output_type": "stream",
     "text": [
      "torch.Size([16, 64, 1, 32])\n",
      "torch.Size([16, 1, 128, 32])\n",
      "torch.Size([16, 64, 20])\n"
     ]
    }
   ],
   "source": [
    "batchSize = 16\n",
    "dictLength = 128\n",
    "seqLength = 64\n",
    "featureNum = 64\n",
    "kFeature, vFeature = 10, 20\n",
    "\n",
    "net = AdditiveAttention(kFeature, 32, seqLength, dictLength)\n",
    "\n",
    "# feature -> 经过 embedding 后 每一个词元的编码长度\n",
    "queries = rand(batchSize, seqLength, featureNum)\n",
    "keys = rand(batchSize, dictLength, kFeature)\n",
    "values = rand(batchSize, dictLength, vFeature)\n",
    "\n",
    "\n",
    "output = net(queries, keys, values)\n",
    "print(output.shape)"
   ]
  }
 ],
 "metadata": {
  "kernelspec": {
   "display_name": "base",
   "language": "python",
   "name": "python3"
  },
  "language_info": {
   "codemirror_mode": {
    "name": "ipython",
    "version": 3
   },
   "file_extension": ".py",
   "mimetype": "text/x-python",
   "name": "python",
   "nbconvert_exporter": "python",
   "pygments_lexer": "ipython3",
   "version": "3.11.5"
  }
 },
 "nbformat": 4,
 "nbformat_minor": 2
}
